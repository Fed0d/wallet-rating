{
 "cells": [
  {
   "cell_type": "markdown",
   "id": "bc389852",
   "metadata": {},
   "source": [
    "# 📚 Импорт библиотек"
   ]
  },
  {
   "cell_type": "code",
   "execution_count": 2,
   "id": "8cb4029d",
   "metadata": {},
   "outputs": [],
   "source": [
    "import requests\n",
    "import time\n",
    "from datetime import datetime\n",
    "import pandas as pd\n",
    "from tqdm import tqdm\n",
    "\n",
    "import pickle"
   ]
  },
  {
   "cell_type": "markdown",
   "id": "3b6b5ad4",
   "metadata": {},
   "source": [
    "# 👛 Импорт адресов"
   ]
  },
  {
   "cell_type": "code",
   "execution_count": 3,
   "id": "54c3b437",
   "metadata": {},
   "outputs": [
    {
     "data": {
      "text/html": [
       "<div>\n",
       "<style scoped>\n",
       "    .dataframe tbody tr th:only-of-type {\n",
       "        vertical-align: middle;\n",
       "    }\n",
       "\n",
       "    .dataframe tbody tr th {\n",
       "        vertical-align: top;\n",
       "    }\n",
       "\n",
       "    .dataframe thead th {\n",
       "        text-align: right;\n",
       "    }\n",
       "</style>\n",
       "<table border=\"1\" class=\"dataframe\">\n",
       "  <thead>\n",
       "    <tr style=\"text-align: right;\">\n",
       "      <th></th>\n",
       "      <th>index</th>\n",
       "      <th>user</th>\n",
       "      <th>airdropped_tokens</th>\n",
       "      <th>get_drop</th>\n",
       "    </tr>\n",
       "  </thead>\n",
       "  <tbody>\n",
       "    <tr>\n",
       "      <th>0</th>\n",
       "      <td>0</td>\n",
       "      <td>0x934204e4617792b8ec2a34f0330a19ab3393041f</td>\n",
       "      <td>5.464521</td>\n",
       "      <td>0</td>\n",
       "    </tr>\n",
       "    <tr>\n",
       "      <th>1</th>\n",
       "      <td>1</td>\n",
       "      <td>0xa99979dca47c7c41262936521d59d9a922f7a1d2</td>\n",
       "      <td>4.161325</td>\n",
       "      <td>0</td>\n",
       "    </tr>\n",
       "    <tr>\n",
       "      <th>2</th>\n",
       "      <td>2</td>\n",
       "      <td>0x5fc7b11e3281b7404573465bc99d9aebc87ec59b</td>\n",
       "      <td>5.756350</td>\n",
       "      <td>0</td>\n",
       "    </tr>\n",
       "    <tr>\n",
       "      <th>3</th>\n",
       "      <td>3</td>\n",
       "      <td>0x7c56d095261c0c9921adf95212f499018340bdde</td>\n",
       "      <td>19.357885</td>\n",
       "      <td>1</td>\n",
       "    </tr>\n",
       "    <tr>\n",
       "      <th>4</th>\n",
       "      <td>4</td>\n",
       "      <td>0xa33f601b04ba846586266bfae01ae47d5362eff4</td>\n",
       "      <td>6.113811</td>\n",
       "      <td>1</td>\n",
       "    </tr>\n",
       "    <tr>\n",
       "      <th>...</th>\n",
       "      <td>...</td>\n",
       "      <td>...</td>\n",
       "      <td>...</td>\n",
       "      <td>...</td>\n",
       "    </tr>\n",
       "    <tr>\n",
       "      <th>745228</th>\n",
       "      <td>745228</td>\n",
       "      <td>0x5e73cf9cebd82d8c192f538f41186b55965e6fc6</td>\n",
       "      <td>25.185039</td>\n",
       "      <td>1</td>\n",
       "    </tr>\n",
       "    <tr>\n",
       "      <th>745229</th>\n",
       "      <td>745229</td>\n",
       "      <td>0x335b7c6633a29e43dbe2f7804803cc8243f2a830</td>\n",
       "      <td>65.942124</td>\n",
       "      <td>1</td>\n",
       "    </tr>\n",
       "    <tr>\n",
       "      <th>745230</th>\n",
       "      <td>745230</td>\n",
       "      <td>0xecebbda750e02674eab8929c69e9de5b30c4446f</td>\n",
       "      <td>26.084444</td>\n",
       "      <td>1</td>\n",
       "    </tr>\n",
       "    <tr>\n",
       "      <th>745231</th>\n",
       "      <td>745231</td>\n",
       "      <td>0x45d1d1124a10dafdf0fe6c6e12a1dea9c1c6db25</td>\n",
       "      <td>159.581385</td>\n",
       "      <td>1</td>\n",
       "    </tr>\n",
       "    <tr>\n",
       "      <th>745232</th>\n",
       "      <td>745232</td>\n",
       "      <td>0x6c6857f95169e658db43f28a677bf7d9d99dcc0e</td>\n",
       "      <td>36.126574</td>\n",
       "      <td>1</td>\n",
       "    </tr>\n",
       "  </tbody>\n",
       "</table>\n",
       "<p>745233 rows × 4 columns</p>\n",
       "</div>"
      ],
      "text/plain": [
       "         index                                        user  airdropped_tokens  \\\n",
       "0            0  0x934204e4617792b8ec2a34f0330a19ab3393041f           5.464521   \n",
       "1            1  0xa99979dca47c7c41262936521d59d9a922f7a1d2           4.161325   \n",
       "2            2  0x5fc7b11e3281b7404573465bc99d9aebc87ec59b           5.756350   \n",
       "3            3  0x7c56d095261c0c9921adf95212f499018340bdde          19.357885   \n",
       "4            4  0xa33f601b04ba846586266bfae01ae47d5362eff4           6.113811   \n",
       "...        ...                                         ...                ...   \n",
       "745228  745228  0x5e73cf9cebd82d8c192f538f41186b55965e6fc6          25.185039   \n",
       "745229  745229  0x335b7c6633a29e43dbe2f7804803cc8243f2a830          65.942124   \n",
       "745230  745230  0xecebbda750e02674eab8929c69e9de5b30c4446f          26.084444   \n",
       "745231  745231  0x45d1d1124a10dafdf0fe6c6e12a1dea9c1c6db25         159.581385   \n",
       "745232  745232  0x6c6857f95169e658db43f28a677bf7d9d99dcc0e          36.126574   \n",
       "\n",
       "        get_drop  \n",
       "0              0  \n",
       "1              0  \n",
       "2              0  \n",
       "3              1  \n",
       "4              1  \n",
       "...          ...  \n",
       "745228         1  \n",
       "745229         1  \n",
       "745230         1  \n",
       "745231         1  \n",
       "745232         1  \n",
       "\n",
       "[745233 rows x 4 columns]"
      ]
     },
     "execution_count": 3,
     "metadata": {},
     "output_type": "execute_result"
    }
   ],
   "source": [
    "df = pd.read_pickle(\"df_addresses.pickle\")\n",
    "df"
   ]
  },
  {
   "cell_type": "code",
   "execution_count": 4,
   "id": "8c837306",
   "metadata": {},
   "outputs": [],
   "source": [
    "df_15k = df[df[\"index\"] < 740000]\n",
    "list_of_addresses_15k = list(df_15k[\"user\"])"
   ]
  },
  {
   "cell_type": "markdown",
   "id": "39693d69",
   "metadata": {},
   "source": [
    "# 🧰 Нужные функции"
   ]
  },
  {
   "cell_type": "markdown",
   "id": "5ece7f00",
   "metadata": {},
   "source": [
    "## Перевод строки в UNIX-timestamp "
   ]
  },
  {
   "cell_type": "code",
   "execution_count": 5,
   "id": "12c67d7e",
   "metadata": {},
   "outputs": [],
   "source": [
    "def date_to_timestamp(date_str: str) -> int:\n",
    "    \"\"\"\n",
    "    Переводит дату вида 'YYYY-MM-DD' в UNIX‑таймстамп (секунды).\n",
    "    \"\"\"\n",
    "    dt = datetime.strptime(date_str, \"%Y-%m-%d\")\n",
    "    return int(time.mktime(dt.timetuple()))"
   ]
  },
  {
   "cell_type": "markdown",
   "id": "e5a6eec0",
   "metadata": {},
   "source": [
    "## Функции сбора транзакций и тарнсферов"
   ]
  },
  {
   "cell_type": "code",
   "execution_count": 6,
   "id": "64230a99",
   "metadata": {},
   "outputs": [],
   "source": [
    "def fetch_transactions(\n",
    "    address: str, api_key: str, end_date: str, tx_type: str = \"normal\"\n",
    ") -> list:\n",
    "    \"\"\"\n",
    "    Собирает все транзакции для address до end_date с Etherscan API.\n",
    "    tx_type: 'normal' или 'internal'.\n",
    "    \"\"\"\n",
    "    base_url = \"https://api.etherscan.io/api\"\n",
    "    action_map = {\"normal\": \"txlist\", \"internal\": \"txlistinternal\"}\n",
    "    action = action_map.get(tx_type, \"txlist\")\n",
    "    cutoff_ts = date_to_timestamp(end_date)\n",
    "\n",
    "    params = {\n",
    "        \"module\": \"account\",\n",
    "        \"action\": action,\n",
    "        \"address\": address,\n",
    "        \"startblock\": 0,\n",
    "        \"endblock\": 99999999,\n",
    "        \"page\": 1,\n",
    "        \"offset\": 10000,\n",
    "        \"sort\": \"asc\",\n",
    "        \"apikey\": api_key,\n",
    "    }\n",
    "\n",
    "    result_txs = []\n",
    "    while True:\n",
    "        resp = requests.get(base_url, params=params)\n",
    "        data = resp.json()\n",
    "        # Проверяем успешность ответа и наличие списка транзакций\n",
    "        if data.get(\"status\") != \"1\" or not isinstance(data.get(\"result\"), list):\n",
    "            break\n",
    "\n",
    "        txs = data[\"result\"]\n",
    "        for tx in txs:\n",
    "            ts = int(tx.get(\"timeStamp\", 0))\n",
    "            if ts <= cutoff_ts:\n",
    "                result_txs.append(tx)\n",
    "            else:\n",
    "                return result_txs\n",
    "\n",
    "        # Если пришло меньше, чем запросили, значит это последняя страница\n",
    "        if len(txs) < params[\"offset\"]:\n",
    "            break\n",
    "        params[\"page\"] += 1\n",
    "\n",
    "    return result_txs\n",
    "\n",
    "\n",
    "def fetch_token_transfers(address: str, api_key: str, end_date: str) -> list:\n",
    "    \"\"\"\n",
    "    Собирает все ERC-20 переводы для address до end_date с Etherscan API.\n",
    "    \"\"\"\n",
    "    base_url = \"https://api.etherscan.io/api\"\n",
    "    cutoff_ts = date_to_timestamp(end_date)\n",
    "\n",
    "    params = {\n",
    "        \"module\": \"account\",\n",
    "        \"action\": \"tokentx\",\n",
    "        \"address\": address,\n",
    "        \"startblock\": 0,\n",
    "        \"endblock\": 99999999,\n",
    "        \"page\": 1,\n",
    "        \"offset\": 10000,\n",
    "        \"sort\": \"asc\",\n",
    "        \"apikey\": api_key,\n",
    "    }\n",
    "\n",
    "    transfers = []\n",
    "    while True:\n",
    "        resp = requests.get(base_url, params=params)\n",
    "        data = resp.json()\n",
    "        if data.get(\"status\") != \"1\" or not isinstance(data.get(\"result\"), list):\n",
    "            break\n",
    "\n",
    "        batch = data[\"result\"]\n",
    "        for tx in batch:\n",
    "            ts = int(tx.get(\"timeStamp\", 0))\n",
    "            if ts <= cutoff_ts:\n",
    "                transfers.append(tx)\n",
    "            else:\n",
    "                return transfers\n",
    "\n",
    "        if len(batch) < params[\"offset\"]:\n",
    "            break\n",
    "        params[\"page\"] += 1\n",
    "\n",
    "    return transfers"
   ]
  },
  {
   "cell_type": "markdown",
   "id": "c10c2a62",
   "metadata": {},
   "source": [
    "## Функция объединения собранных данных"
   ]
  },
  {
   "cell_type": "code",
   "execution_count": 7,
   "id": "3c0fc6e7",
   "metadata": {},
   "outputs": [],
   "source": [
    "def collect_all_to_dataframe(\n",
    "    addresses: list, api_key: str, end_date: str\n",
    ") -> pd.DataFrame:\n",
    "    \"\"\"\n",
    "    Собирает normal, internal и ERC-20 транзакции для списка адресов до end_date и возвращает DataFrame.\n",
    "    Колонки:\n",
    "      - Все поля транзакции\n",
    "      - tx_type  : 'normal', 'internal' или 'erc20'\n",
    "      - address  : адрес кошелька\n",
    "    \"\"\"\n",
    "    rows = []\n",
    "\n",
    "    for addr in addresses:\n",
    "        # Normal и internal транзакции\n",
    "        for tx_type in (\"normal\", \"internal\"):\n",
    "            txs = fetch_transactions(addr, api_key, end_date, tx_type=tx_type)\n",
    "            for tx in txs:\n",
    "                tx_record = tx.copy()\n",
    "                tx_record[\"tx_type\"] = tx_type\n",
    "                tx_record[\"address\"] = addr\n",
    "                rows.append(tx_record)\n",
    "\n",
    "        # ERC-20 переводы\n",
    "        erc20s = fetch_token_transfers(addr, api_key, end_date)\n",
    "        for tx in erc20s:\n",
    "            tx_record = tx.copy()\n",
    "            tx_record[\"tx_type\"] = \"erc20\"\n",
    "            tx_record[\"address\"] = addr\n",
    "            rows.append(tx_record)\n",
    "\n",
    "    df = pd.DataFrame(rows)\n",
    "    return df"
   ]
  },
  {
   "cell_type": "markdown",
   "id": "ce4a4259",
   "metadata": {},
   "source": [
    "# 🦍 Сбор данных с Etherscan"
   ]
  },
  {
   "cell_type": "code",
   "execution_count": 8,
   "id": "f2f83456",
   "metadata": {},
   "outputs": [],
   "source": [
    "# Параметры\n",
    "ARBISCAN_API_KEY = [\"RR54CDP695RSWU5PGZRC135FDC32DBMXIQ\"][0]\n",
    "END_DATE = \"2024-07-04\"\n",
    "\n",
    "list_of_ours_df = []"
   ]
  },
  {
   "cell_type": "code",
   "execution_count": null,
   "id": "90258792",
   "metadata": {},
   "outputs": [
    {
     "name": "stderr",
     "output_type": "stream",
     "text": [
      "  0%|          | 0/111 [00:00<?, ?it/s]"
     ]
    },
    {
     "name": "stdout",
     "output_type": "stream",
     "text": [
      "900 901 902 903 904 905 906 907 908 909 910 911 912 913 914 915 916 917 918 919 920 921 922 923 924 925 926 927 928 929 930 931 932 933 934 935 936 937 938 939 940 941 942 943 944 945 946 947 948 949 950 951 952 953 954 955 956 957 958 959 960 961 962 963 964 965 966 967 968 969 970 971 972 973 974 975 976 977 978 979 980 981 982 983 984 985 986 987 988 989 990 991 992 993 994 995 996 997 998 "
     ]
    },
    {
     "name": "stderr",
     "output_type": "stream",
     "text": [
      "  1%|          | 1/111 [19:38<35:59:48, 1178.08s/it]"
     ]
    },
    {
     "name": "stdout",
     "output_type": "stream",
     "text": [
      "999 1000 1001 1002 1003 1004 1005 1006 1007 1008 1009 1010 1011 1012 1013 1014 1015 1016 1017 1018 1019 1020 1021 1022 1023 1024 1025 1026 1027 1028 1029 1030 1031 1032 1033 1034 1035 1036 1037 1038 1039 1040 1041 1042 1043 1044 1045 1046 1047 1048 1049 1050 1051 1052 1053 1054 1055 1056 1057 1058 1059 1060 1061 1062 1063 1064 1065 1066 1067 1068 1069 1070 1071 1072 1073 1074 1075 1076 1077 1078 1079 1080 1081 1082 1083 1084 1085 1086 1087 1088 1089 1090 1091 1092 1093 1094 1095 1096 1097 1098 "
     ]
    },
    {
     "name": "stderr",
     "output_type": "stream",
     "text": [
      "  2%|▏         | 2/111 [39:25<35:50:05, 1183.54s/it]"
     ]
    },
    {
     "name": "stdout",
     "output_type": "stream",
     "text": [
      "1099 1100 1101 1102 1103 1104 1105 1106 1107 1108 1109 1110 1111 1112 1113 1114 1115 1116 1117 1118 1119 1120 1121 1122 1123 1124 1125 1126 1127 1128 1129 1130 1131 1132 1133 1134 1135 1136 1137 1138 1139 1140 1141 1142 1143 1144 1145 1146 1147 1148 1149 1150 1151 1152 1153 1154 1155 1156 1157 1158 1159 1160 1161 1162 1163 1164 1165 1166 1167 1168 1169 1170 1171 1172 1173 1174 1175 1176 1177 1178 1179 1180 1181 1182 1183 1184 1185 1186 1187 1188 1189 1190 1191 1192 1193 1194 1195 1196 1197 1198 "
     ]
    },
    {
     "name": "stderr",
     "output_type": "stream",
     "text": [
      "  3%|▎         | 3/111 [59:19<35:38:42, 1188.17s/it]"
     ]
    },
    {
     "name": "stdout",
     "output_type": "stream",
     "text": [
      "1199 1200 1201 1202 1203 1204 1205 1206 1207 1208 1209 1210 1211 1212 1213 1214 1215 1216 1217 1218 1219 1220 1221 1222 1223 1224 1225 1226 1227 1228 1229 1230 1231 1232 1233 1234 1235 1236 1237 1238 1239 1240 1241 1242 1243 1244 1245 1246 1247 1248 1249 1250 1251 1252 1253 1254 1255 1256 1257 1258 1259 1260 1261 1262 1263 1264 1265 1266 1267 1268 1269 1270 1271 1272 1273 1274 1275 1276 1277 1278 1279 1280 1281 1282 1283 1284 1285 1286 1287 1288 1289 1290 1291 1292 1293 1294 1295 1296 1297 1298 "
     ]
    },
    {
     "name": "stderr",
     "output_type": "stream",
     "text": [
      "  4%|▎         | 4/111 [1:18:13<34:40:58, 1166.90s/it]"
     ]
    },
    {
     "name": "stdout",
     "output_type": "stream",
     "text": [
      "1299 1300 1301 1302 1303 1304 1305 1306 1307 1308 1309 1310 1311 1312 1313 1314 1315 1316 1317 1318 1319 1320 1321 1322 1323 1324 1325 1326 1327 "
     ]
    }
   ],
   "source": [
    "for lll in tqdm(range(9, 120)):\n",
    "    for i in range(100 * lll, 100 * (lll + 1)):\n",
    "        try:\n",
    "            ADDRESSES = list_of_addresses_15k[i * 5 : (i + 1) * 5]\n",
    "            df = collect_all_to_dataframe(ADDRESSES, ARBISCAN_API_KEY, END_DATE)\n",
    "            list_of_ours_df.append(df)\n",
    "            time.sleep(0.3)\n",
    "\n",
    "        except Exception:\n",
    "            time.sleep(1)\n",
    "            continue\n",
    "        print(i, end=\" \")\n",
    "\n",
    "    with open(f\"list_of_df_etherscan_offset_100x5_{lll}.pkl\", \"wb\") as f:\n",
    "        pickle.dump(list_of_ours_df, f)\n",
    "\n",
    "    list_of_ours_df = []"
   ]
  },
  {
   "cell_type": "code",
   "execution_count": null,
   "id": "229fd203",
   "metadata": {},
   "outputs": [],
   "source": []
  }
 ],
 "metadata": {
  "kernelspec": {
   "display_name": "venv",
   "language": "python",
   "name": "python3"
  },
  "language_info": {
   "codemirror_mode": {
    "name": "ipython",
    "version": 3
   },
   "file_extension": ".py",
   "mimetype": "text/x-python",
   "name": "python",
   "nbconvert_exporter": "python",
   "pygments_lexer": "ipython3",
   "version": "3.10.12"
  }
 },
 "nbformat": 4,
 "nbformat_minor": 5
}
