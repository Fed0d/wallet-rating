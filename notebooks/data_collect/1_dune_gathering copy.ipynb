{
 "cells": [
  {
   "cell_type": "code",
   "execution_count": 1,
   "id": "451187e8",
   "metadata": {},
   "outputs": [],
   "source": []
  },
  {
   "cell_type": "code",
   "execution_count": null,
   "id": "d9db5ae0",
   "metadata": {},
   "outputs": [
    {
     "name": "stdout",
     "output_type": "stream",
     "text": [
      "Файл успешно сохранён: drop_getters/result_limit_5000_offset_260000.csv\n",
      "Файл успешно сохранён: drop_getters/result_limit_5000_offset_265000.csv\n"
     ]
    }
   ],
   "source": [
    "import requests\n",
    "import os\n",
    "import time\n",
    "\n",
    "# Получаем API ключ из переменных окружения\n",
    "API_KEY = [\"Здесь были API ключи\"][2]  # mgduck22, mgduck23 (banned), gullx\n",
    "\n",
    "if not API_KEY:\n",
    "    raise ValueError(\"Переменная окружения API_KEY не установлена.\")\n",
    "\n",
    "# Создаем директорию, если она не существует\n",
    "output_dir = \"drop_getters\"\n",
    "os.makedirs(output_dir, exist_ok=True)\n",
    "\n",
    "# Основной URL запроса (без параметров)\n",
    "url = \"https://api.dune.com/api/v1/query/3847953/results/csv\"\n",
    "\n",
    "for offer in range(52, 54):\n",
    "    # Параметры запроса\n",
    "    params = {\n",
    "        \"limit\": \"5000\",  # Лимит записей\n",
    "        \"offset\": str(offer * 5000),  # Смещение от начала\n",
    "        \"columns\": \"evt_block_time,user,airdropped_tokens,evt_tx_hash\",\n",
    "    }\n",
    "\n",
    "    # Заголовки запроса\n",
    "    headers = {\"X-Dune-API-Key\": API_KEY}\n",
    "\n",
    "    # Выполняем GET-запрос с заданными параметрами\n",
    "    response = requests.get(url, headers=headers, params=params)\n",
    "    time.sleep(5)\n",
    "\n",
    "    # Проверяем успешность запроса\n",
    "    if response.status_code == 200:\n",
    "        limit = params[\"limit\"]\n",
    "        offset = params[\"offset\"]\n",
    "        filename = f\"result_limit_{limit}_offset_{offset}.csv\"\n",
    "        filepath = os.path.join(output_dir, filename)\n",
    "\n",
    "        with open(filepath, \"wb\") as f:\n",
    "            f.write(response.content)\n",
    "        print(f\"Файл успешно сохранён: {filepath}\")\n",
    "    else:\n",
    "        print(f\"Ошибка запроса: {response.status_code} — {response.text}\")"
   ]
  },
  {
   "cell_type": "code",
   "execution_count": null,
   "id": "913dd379",
   "metadata": {},
   "outputs": [],
   "source": [
    "# 0x877bfd84480d236ff4209050eee02cfbcc0bcc27"
   ]
  },
  {
   "cell_type": "code",
   "execution_count": null,
   "id": "ed587cb2",
   "metadata": {},
   "outputs": [],
   "source": []
  }
 ],
 "metadata": {
  "kernelspec": {
   "display_name": "venv",
   "language": "python",
   "name": "python3"
  },
  "language_info": {
   "codemirror_mode": {
    "name": "ipython",
    "version": 3
   },
   "file_extension": ".py",
   "mimetype": "text/x-python",
   "name": "python",
   "nbconvert_exporter": "python",
   "pygments_lexer": "ipython3",
   "version": "3.10.12"
  }
 },
 "nbformat": 4,
 "nbformat_minor": 5
}
